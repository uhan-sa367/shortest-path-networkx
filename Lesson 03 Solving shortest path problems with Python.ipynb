{
 "cells": [
  {
   "cell_type": "markdown",
   "metadata": {
    "hide_cell": true
   },
   "source": [
    "**SA367 &#x25aa; Mathematical Models for Decision Making &#x25aa; Spring 2022 &#x25aa; Uhan**"
   ]
  },
  {
   "cell_type": "markdown",
   "metadata": {
    "hide_cell": true
   },
   "source": [
    "# Lesson 3. Solving Shortest Path Problems with Python"
   ]
  },
  {
   "cell_type": "markdown",
   "metadata": {},
   "source": [
    "## Overview"
   ]
  },
  {
   "cell_type": "markdown",
   "metadata": {},
   "source": [
    "* In this lesson, we'll learn how to use some Python packages to solve shortest path problems"
   ]
  },
  {
   "cell_type": "markdown",
   "metadata": {},
   "source": [
    "---"
   ]
  },
  {
   "cell_type": "markdown",
   "metadata": {
    "tags": []
   },
   "source": [
    "## An example"
   ]
  },
  {
   "cell_type": "markdown",
   "metadata": {},
   "source": [
    "<!--- Winston and Venkataramanan Chapter 8.2 -->\n",
    "You have just purchased a new car for \\\\$22,000.\n",
    "The cost of maintaining a car during a year depends on its age at the\n",
    "beginning of the year:\n",
    "\n",
    "| Age of car (years)            |     0 |     1 |     2 |     3 |      4 |\n",
    "|:------------------------------|------:|------:|------:|------:|-------:|\n",
    "| Annual maintenance cost (\\\\$) | 2,000 | 3,000 | 4,000 | 8,000 | 12,000 |\n",
    "\n",
    "To avoid the high maintenance costs associated with an older car, you may\n",
    "trade in your car and purchase a new car.\n",
    "The price you receive on a trade-in depends on the age of the car at the time\n",
    "of the trade-in:\n",
    "\n",
    "| Age of car (years)   |      1 |      2 |     3 |     4 |     5 |\n",
    "|:---------------------|-------:|-------:|------:|------:|------:|\n",
    "| Trade-in price (\\\\$) | 15,000 | 12,000 | 9,000 | 5,000 | 2,000 |\n",
    "\n",
    "For now, assume that at any time, it costs \\\\$22,000 to purchase a new car.\n",
    "Your goal is to minimize the net cost (purchasing costs $+$ maintenance costs\n",
    "$-$ money received in trade-ins) incurred over the next five years.\n",
    "\n",
    "1. Formulate your problem as a shortest path problem.\n",
    "2. Solve your shortest path formulation: give the shortest path length and a shortest path.\n",
    "3. Interpret the shortest path length and shortest path in the context of the problem."
   ]
  },
  {
   "cell_type": "markdown",
   "metadata": {},
   "source": [
    "* Recall that we formulated this problem as a shortest path problem back in Lesson 1, like this:"
   ]
  },
  {
   "cell_type": "markdown",
   "metadata": {},
   "source": [
    "![Solution to car maintenance example](img/maintenance.png)"
   ]
  },
  {
   "cell_type": "markdown",
   "metadata": {},
   "source": [
    "* Let's solve this shortest path problem &mdash; that is,\n",
    "    - obtain the length of a shortest path\n",
    "    - obtain the nodes/edges in a shortest path\n",
    "\n",
    "\n",
    "* First obstacle: how do we represent graphs in Python?"
   ]
  },
  {
   "cell_type": "markdown",
   "metadata": {},
   "source": [
    "## Finding Python packages"
   ]
  },
  {
   "cell_type": "markdown",
   "metadata": {},
   "source": [
    "* If you want to do something in Python, there's a very good chance that there's a package that will help you out\n",
    "\n",
    "\n",
    "* The Python Package Index, or [PyPI](https://pypi.python.org/pypi), is the principal repository for Python software\n",
    "\n",
    "\n",
    "* Let's try searching PyPI for \"graphs\"\n",
    "\n",
    "\n",
    "* We can also Google \"python graphs\" and see if any useful packages pop up\n",
    "\n",
    "\n",
    "* Don't just choose the first package you find &mdash; read the package's documentation (*make sure it has good documentation*) and see if it is suitable for you"
   ]
  },
  {
   "cell_type": "markdown",
   "metadata": {},
   "source": [
    "* In this class, we'll use [NetworkX](https://networkx.github.io) to represent graphs\n",
    "    - It has good documentation, it's pretty easy to use, and has a lot of built-in functionality\n",
    "\n",
    "\n",
    "* Luckily, the Anaconda distribution we're using in this class already has NetworkX installed"
   ]
  },
  {
   "cell_type": "markdown",
   "metadata": {},
   "source": [
    "## Building a graph in NetworkX"
   ]
  },
  {
   "cell_type": "markdown",
   "metadata": {},
   "source": [
    "* To use NetworkX, we first need to `import` it so that we can access its functions, like this:"
   ]
  },
  {
   "cell_type": "code",
   "execution_count": 1,
   "metadata": {},
   "outputs": [],
   "source": [
    "import networkx as nx"
   ]
  },
  {
   "cell_type": "markdown",
   "metadata": {},
   "source": [
    "* `as nx` in the cell above lets us refer to `networkx` as `nx`\n",
    "    - This helps us save some keystrokes and keeps our code a bit cleaner"
   ]
  },
  {
   "cell_type": "markdown",
   "metadata": {},
   "source": [
    "* Let's build the directed graph for the example above in NetworkX\n",
    "\n",
    "* We can start by creating an empty digraph called `G`, like this:"
   ]
  },
  {
   "cell_type": "code",
   "execution_count": null,
   "metadata": {},
   "outputs": [],
   "source": []
  },
  {
   "cell_type": "code",
   "execution_count": 2,
   "metadata": {
    "tags": [
     "solution"
    ]
   },
   "outputs": [],
   "source": [
    "# Solution\n",
    "G = nx.DiGraph()"
   ]
  },
  {
   "cell_type": "markdown",
   "metadata": {},
   "source": [
    "* Next, let's add nodes 1-6 to `G`. We can do this by using the `.add_node()` method on `G`, like so:"
   ]
  },
  {
   "cell_type": "code",
   "execution_count": null,
   "metadata": {},
   "outputs": [],
   "source": []
  },
  {
   "cell_type": "code",
   "execution_count": 3,
   "metadata": {
    "tags": [
     "solution"
    ]
   },
   "outputs": [],
   "source": [
    "# Solution\n",
    "G.add_node(1)\n",
    "G.add_node(2)\n",
    "G.add_node(3)\n",
    "G.add_node(4)\n",
    "G.add_node(5)\n",
    "G.add_node(6)"
   ]
  },
  {
   "cell_type": "markdown",
   "metadata": {},
   "source": [
    "<br>\n",
    "\n",
    "🤔 __Food for thought.__ What is a shorter way of expressing the code in the above cell?"
   ]
  },
  {
   "cell_type": "markdown",
   "metadata": {},
   "source": [
    "_Write your notes here. Double-click to edit._"
   ]
  },
  {
   "cell_type": "markdown",
   "metadata": {
    "tags": [
     "solution"
    ]
   },
   "source": [
    "_Solution._ We can use a `for` loop to add the nodes instead."
   ]
  },
  {
   "cell_type": "markdown",
   "metadata": {},
   "source": [
    "* Now we need to add the edges, as well as the length of each edge\n",
    "\n",
    "\n",
    "* We can do this by using the `.add_edge()` method on `G`\n",
    "\n",
    "\n",
    "* For example, to add the edge $(1, 2)$ with length 9, we would write:"
   ]
  },
  {
   "cell_type": "code",
   "execution_count": null,
   "metadata": {},
   "outputs": [],
   "source": []
  },
  {
   "cell_type": "code",
   "execution_count": 4,
   "metadata": {
    "tags": [
     "solution"
    ]
   },
   "outputs": [],
   "source": [
    "# Solution\n",
    "G.add_edge(1, 2, length=9)"
   ]
  },
  {
   "cell_type": "markdown",
   "metadata": {},
   "source": [
    "* In the above statement, we are assigning edge $(1,2)$ an __attribute__ called `length` with value 9\n",
    "\n",
    "\n",
    "* Note that `length` is a name of our choosing\n",
    "\n",
    "\n",
    "* We could have used `weight` or `cost` or `monkey` instead of `length`\n",
    "\n",
    "\n",
    "* As long as we are consistent across all the edges we define, then we can use the edge lengths easily later on"
   ]
  },
  {
   "cell_type": "markdown",
   "metadata": {},
   "source": [
    "* Let's add the rest of the edges and edge lengths:"
   ]
  },
  {
   "cell_type": "code",
   "execution_count": 5,
   "metadata": {},
   "outputs": [],
   "source": [
    "# Add the rest of the edges outgoing from node 1\n",
    "\n",
    "# Add edges outgoing from node 2\n",
    "\n",
    "# Add edges outgoing from node 3\n",
    "\n",
    "# Add edges outgoing from node 4\n",
    "\n",
    "# Add edges outgoing from node 5\n"
   ]
  },
  {
   "cell_type": "code",
   "execution_count": 6,
   "metadata": {
    "tags": [
     "solution"
    ]
   },
   "outputs": [],
   "source": [
    "# Solution\n",
    "# Add the rest of the edges outgoing from node 1\n",
    "G.add_edge(1, 3, length=15)\n",
    "G.add_edge(1, 4, length=22)\n",
    "G.add_edge(1, 5, length=34)\n",
    "G.add_edge(1, 6, length=49)\n",
    "\n",
    "# Add edges outgoing from node 2\n",
    "G.add_edge(2, 3, length=9)\n",
    "G.add_edge(2, 4, length=15)\n",
    "G.add_edge(2, 5, length=22)\n",
    "G.add_edge(2, 6, length=34)\n",
    "\n",
    "# Add edges outgoing from node 3\n",
    "G.add_edge(3, 4, length=9)\n",
    "G.add_edge(3, 5, length=15)\n",
    "G.add_edge(3, 6, length=22)\n",
    "\n",
    "# Add edges outgoing from node 4\n",
    "G.add_edge(4, 5, length=9)\n",
    "G.add_edge(4, 6, length=15)\n",
    "\n",
    "# Add edges outgoing from node 5\n",
    "G.add_edge(5, 6, length=9)"
   ]
  },
  {
   "cell_type": "markdown",
   "metadata": {},
   "source": [
    "## Accessing edge information"
   ]
  },
  {
   "cell_type": "markdown",
   "metadata": {},
   "source": [
    "* Two nodes are __adjacent__ if they are endpoints of the same edge\n",
    "\n",
    "\n",
    "* We can find the nodes adjacent to node 2 by outgoing edges like this:"
   ]
  },
  {
   "cell_type": "code",
   "execution_count": null,
   "metadata": {},
   "outputs": [],
   "source": []
  },
  {
   "cell_type": "code",
   "execution_count": 7,
   "metadata": {
    "tags": [
     "solution"
    ]
   },
   "outputs": [
    {
     "name": "stdout",
     "output_type": "stream",
     "text": [
      "{3: {'length': 9}, 4: {'length': 15}, 5: {'length': 22}, 6: {'length': 34}}\n"
     ]
    }
   ],
   "source": [
    "# Solution\n",
    "print(G[2])"
   ]
  },
  {
   "cell_type": "markdown",
   "metadata": {},
   "source": [
    "* We see that $(2,3)$ is an edge in $G$ with length 9, as desired\n",
    "\n",
    "\n",
    "* Same goes for $(2, 4)$, $(2, 5)$, and $(2, 6)$"
   ]
  },
  {
   "cell_type": "markdown",
   "metadata": {},
   "source": [
    "* We can find the length of edge $(2, 5)$ directly like this:"
   ]
  },
  {
   "cell_type": "code",
   "execution_count": null,
   "metadata": {},
   "outputs": [],
   "source": []
  },
  {
   "cell_type": "code",
   "execution_count": 8,
   "metadata": {
    "tags": [
     "solution"
    ]
   },
   "outputs": [
    {
     "name": "stdout",
     "output_type": "stream",
     "text": [
      "22\n"
     ]
    }
   ],
   "source": [
    "# Solution\n",
    "print(G[2][5][\"length\"])"
   ]
  },
  {
   "cell_type": "markdown",
   "metadata": {},
   "source": [
    "* Note that if we used a different attribute name above, we would need to use that instead of `\"length\"`\n",
    "\n",
    "\n",
    "* For example,\n",
    "\n",
    "    ```python\n",
    "    print(G[2][5][\"monkey\"])\n",
    "    ```"
   ]
  },
  {
   "cell_type": "markdown",
   "metadata": {},
   "source": [
    "* _Fine point._ NetworkX stores graph information as dictionaries nested within dictionaries"
   ]
  },
  {
   "cell_type": "markdown",
   "metadata": {},
   "source": [
    "## Solving shortest path problems"
   ]
  },
  {
   "cell_type": "markdown",
   "metadata": {},
   "source": [
    "* The __Bellman-Ford algorithm__ solves shortest path problems on directed graphs with negative edge lengths\n",
    "   \n",
    "\n",
    "- The algorithm will output either \n",
    "    1. a shortest path from the source node to the target node, or \n",
    "    2. declare that there is a negative directed cycle\n",
    "\n",
    "\n",
    "* NetworkX has an implementation of the Bellman-Ford algorithm, but it doesn't automatically output the most useful information\n",
    "\n",
    "\n",
    "* We will use a package called `bellmanford` that extends NetworkX's implementation of the Bellman-Ford algorithm to output useful information easily\n",
    "\n",
    "\n",
    "* To install `bellmanford`, open an Anaconda Prompt and type:\n",
    "\n",
    "    ```\n",
    "    pip install bellmanford\n",
    "    ```\n",
    "\n",
    "\n",
    "* To use `bellmanford`, we must first import it, just like with `networkx`:"
   ]
  },
  {
   "cell_type": "code",
   "execution_count": 9,
   "metadata": {},
   "outputs": [],
   "source": [
    "import bellmanford as bf"
   ]
  },
  {
   "cell_type": "markdown",
   "metadata": {},
   "source": [
    "* To find the shortest path from node 1 to node 6 in the graph `G` we created above, we can do this:"
   ]
  },
  {
   "cell_type": "code",
   "execution_count": null,
   "metadata": {},
   "outputs": [],
   "source": []
  },
  {
   "cell_type": "code",
   "execution_count": 10,
   "metadata": {
    "tags": [
     "solution"
    ]
   },
   "outputs": [],
   "source": [
    "# Solution\n",
    "path_length, path_nodes, negative_cycle = bf.bellman_ford(G, source=1, target=6, weight=\"length\")"
   ]
  },
  {
   "cell_type": "markdown",
   "metadata": {},
   "source": [
    "* The `weight` argument corresponds to the edge attribute we defined to contain the edge lengths\n",
    "\n",
    "\n",
    "* `bellman_ford` has three outputs: see what they look like below:"
   ]
  },
  {
   "cell_type": "code",
   "execution_count": 11,
   "metadata": {},
   "outputs": [
    {
     "name": "stdout",
     "output_type": "stream",
     "text": [
      "Is there a negative cycle? False\n",
      "Shortest path length: 37\n",
      "Shortest path: [1, 3, 6]\n"
     ]
    }
   ],
   "source": [
    "print(f\"Is there a negative cycle? {negative_cycle}\")\n",
    "print(f\"Shortest path length: {path_length}\")\n",
    "print(f\"Shortest path: {path_nodes}\")"
   ]
  },
  {
   "cell_type": "markdown",
   "metadata": {},
   "source": [
    "## Interpreting the output"
   ]
  },
  {
   "cell_type": "markdown",
   "metadata": {},
   "source": [
    "❓ __Example.__ How does the output from the previous code cell translate to the original problem?"
   ]
  },
  {
   "cell_type": "markdown",
   "metadata": {},
   "source": [
    "_Write your notes here. Double-click to edit._"
   ]
  },
  {
   "cell_type": "markdown",
   "metadata": {
    "tags": [
     "solution"
    ]
   },
   "source": [
    "_Solution._ The length of the shortest path represents the minimum cost of owning and maintaining a car over the next 5 years, which in this case is 37,000 dollars.\n",
    "\n",
    "The nodes in the shortest path indicate when to buy a new car (and trade-in the old car). In this case, we should buy a new car in year 1 and year 3."
   ]
  },
  {
   "cell_type": "markdown",
   "metadata": {},
   "source": [
    "## Another example &mdash; on your own"
   ]
  },
  {
   "cell_type": "markdown",
   "metadata": {},
   "source": [
    "* Here's another example from Lesson 1."
   ]
  },
  {
   "cell_type": "markdown",
   "metadata": {},
   "source": [
    "<!--- Rardin Exercise 9-32 -->\n",
    "The Simplexville College campus shuttle bus begins running at 7:00pm and continues until 2:00am. Several drivers will be used, but only one should be on duty at any time. If a shift starts at or before 9:00pm, a regular driver can be obtained for a 4-hour shift at a cost of \\\\$50. Otherwise, part-time drivers need to be used. Several part-time drivers can work 3-hour shifts at \\\\$40, and the rest are limited to 2-hour shifts at \\\\$30. The college's goal is to schedule drivers in a way that minimizes the total cost of staffing the shuttle bus. \n",
    "\n",
    "1. Formulate this problem as a shortest path problem. \n",
    "2. Solve your shortest path formulation: give the shortest path length and a shortest path.\n",
    "3. Interpret the shortest path length and shortest path in the context of the problem."
   ]
  },
  {
   "cell_type": "markdown",
   "metadata": {},
   "source": [
    "* We formulated this as a shortest path problem as follows:\n",
    "\n",
    "![Solution to shuttle bus example](img/shuttle.png)"
   ]
  },
  {
   "cell_type": "code",
   "execution_count": null,
   "metadata": {},
   "outputs": [],
   "source": []
  },
  {
   "cell_type": "code",
   "execution_count": 12,
   "metadata": {
    "tags": [
     "solution"
    ]
   },
   "outputs": [
    {
     "name": "stdout",
     "output_type": "stream",
     "text": [
      "Is there a negative cycle? False\n",
      "Shortest path length: 90\n",
      "Shortest path: ['7pm', '11pm', '2am']\n"
     ]
    }
   ],
   "source": [
    "# Solution\n",
    "# Create empty graph\n",
    "H = nx.DiGraph()\n",
    "\n",
    "# Add nodes\n",
    "H.add_node(\"7pm\")\n",
    "H.add_node(\"8pm\")\n",
    "H.add_node(\"9pm\")\n",
    "H.add_node(\"10pm\")\n",
    "H.add_node(\"11pm\")\n",
    "H.add_node(\"12am\")\n",
    "H.add_node(\"1am\")\n",
    "H.add_node(\"2am\")\n",
    "\n",
    "# Add edges for 4-hour shifts\n",
    "H.add_edge(\"7pm\", \"11pm\", length=50)\n",
    "H.add_edge(\"8pm\", \"12am\", length=50)\n",
    "H.add_edge(\"9pm\", \"1am\", length=50)\n",
    "\n",
    "# Add edges for 3-hour shifts\n",
    "H.add_edge(\"7pm\", \"10pm\", length=40)\n",
    "H.add_edge(\"8pm\", \"11pm\", length=40)\n",
    "H.add_edge(\"9pm\", \"12am\", length=40)\n",
    "H.add_edge(\"10pm\", \"1am\", length=40)\n",
    "H.add_edge(\"11pm\", \"2am\", length=40)\n",
    "\n",
    "# Add edges for 2-hour shifts\n",
    "H.add_edge(\"7pm\", \"9pm\", length=30)\n",
    "H.add_edge(\"8pm\", \"10pm\", length=30)\n",
    "H.add_edge(\"9pm\", \"11pm\", length=30)\n",
    "H.add_edge(\"10pm\", \"12pm\", length=30)\n",
    "H.add_edge(\"11pm\", \"1am\", length=30)\n",
    "H.add_edge(\"12pm\", \"2am\", length=30)\n",
    "\n",
    "# Solve shortest path problem\n",
    "path_length, path_nodes, negative_cycle = bf.bellman_ford(H, source=\"7pm\", target=\"2am\", weight=\"length\")\n",
    "print(f\"Is there a negative cycle? {negative_cycle}\")\n",
    "print(f\"Shortest path length: {path_length}\")\n",
    "print(f\"Shortest path: {path_nodes}\")"
   ]
  },
  {
   "cell_type": "markdown",
   "metadata": {},
   "source": [
    "_Write your notes here. Double-click to edit._"
   ]
  },
  {
   "cell_type": "markdown",
   "metadata": {
    "tags": [
     "solution"
    ]
   },
   "source": [
    "_Solution._ The length of the shortest path is the minimum cost of staffing the shuttle from 7pm to 2am, which in this case is 90 dollars.\n",
    "\n",
    "The nodes in the shortest path indicate when to change drivers, and the edges in the shortest path represent the shifts used. In this case, we should have a driver on a 4-hour shift from 7pm to 11pm, and then a 3-hour shift from 11pm to 2am."
   ]
  },
  {
   "cell_type": "markdown",
   "metadata": {},
   "source": [
    "---"
   ]
  },
  {
   "cell_type": "markdown",
   "metadata": {},
   "source": [
    "## Problems"
   ]
  },
  {
   "cell_type": "markdown",
   "metadata": {},
   "source": [
    "### Problem 1 (Shapley Sneakers, revisited)"
   ]
  },
  {
   "cell_type": "markdown",
   "metadata": {},
   "source": [
    "The Shapley Sneaker Company is opening a new factory in Simplexville. One of its major purchases will be a leather cutting machine. The cost of maintaining a machine depends on its age as follows:\n",
    "\n",
    "| Age at beginning of year (years)    |      0 |      1 |      2 |       3 |       4 |\n",
    "|:------------------------------------|-------:|-------:|-------:|--------:|--------:|\n",
    "| Maintenance cost for next year (\\$) | 38,000 | 50,000 | 97,000 | 182,000 | 304,000 |\n",
    "\n",
    "The cost of purchasing a machine at the beginning of each year is:\n",
    "\n",
    "| Year               |       1 |       2 |       3 |       4 |       5 |\n",
    "|:-------------------|--------:|--------:|--------:|--------:|--------:|\n",
    "| Purchase cost (\\$) | 170,000 | 190,000 | 210,000 | 250,000 | 300,000 |\n",
    "\n",
    "There is no trade-in value when a machine is replaced. The company's goal is to minimize the total cost (purchase plus maintenance) of having a machine for five years. \n",
    "\n",
    "Once upon a time, for homework, you formulated this problem as a shortest path problem.\n",
    "\n",
    "1. Solve your shortest path formulation: give the shortest path length and a shortest path.\n",
    "2. Interpret the shortest path length and shortest path in the context of the problem."
   ]
  },
  {
   "cell_type": "code",
   "execution_count": null,
   "metadata": {},
   "outputs": [],
   "source": []
  },
  {
   "cell_type": "code",
   "execution_count": 13,
   "metadata": {
    "tags": [
     "solution"
    ]
   },
   "outputs": [
    {
     "name": "stdout",
     "output_type": "stream",
     "text": [
      "Negative cycle? False\n",
      "Shortest path length = 653\n",
      "Shortest path = [1, 3, 6]\n"
     ]
    }
   ],
   "source": [
    "# Solution\n",
    "# Create empty graph\n",
    "G = nx.DiGraph()\n",
    "\n",
    "# Add nodes\n",
    "# Recall that range(1, 7) is equivalent to [1, 2, 3, 4, 5, 6]\n",
    "for i in range(1, 7): \n",
    "    G.add_node(i)\n",
    "\n",
    "# Add edges and edge lengths\n",
    "G.add_edge(1, 2, length=218)\n",
    "G.add_edge(1, 3, length=258)\n",
    "G.add_edge(1, 4, length=355)\n",
    "G.add_edge(1, 5, length=537)\n",
    "G.add_edge(1, 6, length=841)\n",
    "G.add_edge(2, 3, length=228)\n",
    "G.add_edge(2, 4, length=278)\n",
    "G.add_edge(2, 5, length=375)\n",
    "G.add_edge(2, 6, length=557)\n",
    "G.add_edge(3, 4, length=248)\n",
    "G.add_edge(3, 5, length=298)\n",
    "G.add_edge(3, 6, length=395)\n",
    "G.add_edge(4, 5, length=288)\n",
    "G.add_edge(4, 6, length=338)\n",
    "G.add_edge(5, 6, length=338)\n",
    "\n",
    "# Solve for shortest path from 1 to 6\n",
    "path_length, path_nodes, negative_cycle = bf.bellman_ford(G, source=1, target=6, weight=\"length\")\n",
    "print(f\"Negative cycle? {negative_cycle}\")\n",
    "print(f\"Shortest path length = {path_length}\")\n",
    "print(f\"Shortest path = {path_nodes}\")"
   ]
  },
  {
   "cell_type": "markdown",
   "metadata": {},
   "source": [
    "_Write your notes here. Double-click to edit._"
   ]
  },
  {
   "cell_type": "markdown",
   "metadata": {
    "tags": [
     "solution"
    ]
   },
   "source": [
    "_Solution._ The nodes in the shortest path correspond to when the company should buy a new machine in order to minimize the total cost of having a machine over 5 years: it should buy a new machine in years 1 and 3.\n",
    "\n",
    "The length of the shortest path is the minimum total cost of having a machine over 5 years, which is \\$653,000."
   ]
  },
  {
   "cell_type": "markdown",
   "metadata": {},
   "source": [
    "### Problem 2 (Primal Praline Company, revisited)"
   ]
  },
  {
   "cell_type": "markdown",
   "metadata": {},
   "source": [
    "The Primal Praline Company needs to have a working candy making machine during each of the next six years.\n",
    "Currently, it has a new machine.\n",
    "At the beginning of each year, the company may keep the machine or sell it and buy a new one.\n",
    "A new machine costs \\$5000, and cannot be kept for more than three years.\n",
    "The revenues earned by a machine, the cost of maintaining it, and the salvage value that can be obtained by selling it at the end of a year depend on the age of the machine:\n",
    "\n",
    "| Age of machine at the beginning of year | 0 years | 1 years | 2 years |\n",
    "|:----------------------------------------|--------:|--------:|--------:|\n",
    "| Revenues                                | 4,500   | 3,000   | 1,500   |\n",
    "| Operating costs                         | 500     | 700     | 1,100   |\n",
    "| Salvage value at the end of year        | 3,000   | 1,800   | 500     |\n",
    "\n",
    "The company's problem is to maximize the net profit it earns over the next six\n",
    "years.\n",
    "\n",
    "Once upon a time, you formulated this as a shortest path problem.\n",
    "\n",
    "1. Solve your shortest path formulation: give the shortest path length and a shortest path.\n",
    "2. Interpret the shortest path length and shortest path in the context of the problem."
   ]
  },
  {
   "cell_type": "code",
   "execution_count": null,
   "metadata": {},
   "outputs": [],
   "source": []
  },
  {
   "cell_type": "code",
   "execution_count": 14,
   "metadata": {
    "tags": [
     "solution"
    ]
   },
   "outputs": [
    {
     "name": "stdout",
     "output_type": "stream",
     "text": [
      "Negative cycle? False\n",
      "Shortest path length = -17000\n",
      "Shortest path = [1, 2, 3, 4, 5, 6, 7]\n"
     ]
    }
   ],
   "source": [
    "# Solution\n",
    "# Create empty graph\n",
    "H = nx.DiGraph()\n",
    "\n",
    "# Add nodes\n",
    "for i in range(1, 8):\n",
    "    H.add_node(i)\n",
    "\n",
    "# Add edges and edge lengths\n",
    "H.add_edge(1, 2, length=-7000)\n",
    "H.add_edge(1, 3, length=-8100)\n",
    "H.add_edge(1, 4, length=-7200)\n",
    "H.add_edge(2, 3, length=-2000)\n",
    "H.add_edge(2, 4, length=-3100)\n",
    "H.add_edge(2, 5, length=-2200)\n",
    "H.add_edge(3, 4, length=-2000)\n",
    "H.add_edge(3, 5, length=-3100)\n",
    "H.add_edge(3, 6, length=-2200)\n",
    "H.add_edge(4, 5, length=-2000)\n",
    "H.add_edge(4, 6, length=-3100)\n",
    "H.add_edge(4, 7, length=-2200)\n",
    "H.add_edge(5, 6, length=-2000)\n",
    "H.add_edge(5, 7, length=-3100)\n",
    "H.add_edge(6, 7, length=-2000)\n",
    "\n",
    "# Solve for shortest path from start to finish\n",
    "path_length, path_nodes, negative_cycle = bf.bellman_ford(H, source=1, target=7, weight=\"length\")\n",
    "print(f\"Negative cycle? {negative_cycle}\")\n",
    "print(f\"Shortest path length = {path_length}\")\n",
    "print(f\"Shortest path = {path_nodes}\")"
   ]
  },
  {
   "cell_type": "markdown",
   "metadata": {},
   "source": [
    "_Write your notes here. Double-click to edit._"
   ]
  },
  {
   "cell_type": "markdown",
   "metadata": {
    "tags": [
     "solution"
    ]
   },
   "source": [
    "_Solution._ The nodes in the shortest path correspond to when the company should purchase a new machine in order to maximize its net profit over the next 6 years: the company should use its existing machine in year 1, and buy a new machine in years 2, 3, 4, 5 and 6 (i.e. every year).\n",
    "\n",
    "The length of the shortest path is the _negative_ of the maximum net profit it can earn over the next six years, which is $17,000."
   ]
  }
 ],
 "metadata": {
  "kernelspec": {
   "display_name": "Python 3",
   "language": "python",
   "name": "python3"
  },
  "language_info": {
   "codemirror_mode": {
    "name": "ipython",
    "version": 3
   },
   "file_extension": ".py",
   "mimetype": "text/x-python",
   "name": "python",
   "nbconvert_exporter": "python",
   "pygments_lexer": "ipython3",
   "version": "3.8.10"
  },
  "latex_metadata": {
   "title": "Lesson 4. Solving Shortest Path Problems with networkx"
  }
 },
 "nbformat": 4,
 "nbformat_minor": 4
}
